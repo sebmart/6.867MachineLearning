{
 "cells": [
  {
   "cell_type": "code",
   "execution_count": 163,
   "metadata": {
    "collapsed": true
   },
   "outputs": [],
   "source": [
    "%matplotlib inline  \n",
    "import pdb\n",
    "import random\n",
    "import pylab as pl\n",
    "from scipy.optimize import fmin_bfgs\n",
    "import numpy as np\n",
    "from numpy.linalg import inv\n",
    "import matplotlib.pyplot as plt\n",
    "from scipy.optimize import fmin_bfgs as opt\n"
   ]
  },
  {
   "cell_type": "code",
   "execution_count": 2,
   "metadata": {
    "collapsed": true
   },
   "outputs": [],
   "source": [
    "def designMatrix(X, order):\n",
    "    N = len(X)\n",
    "    phi = np.array([[0.]*order]*N)\n",
    "    for i in range(N):\n",
    "        for j in range(order):\n",
    "            phi[i,j] = X[i]**j\n",
    "    return phi"
   ]
  },
  {
   "cell_type": "code",
   "execution_count": 159,
   "metadata": {
    "collapsed": true
   },
   "outputs": [],
   "source": [
    "def designMatrix2(X, order):\n",
    "    N = len(X)\n",
    "    phi = np.array([[0.]*(order)]*N)\n",
    "    for i in range(N):\n",
    "        for j in range(order):\n",
    "            phi[i,j] = np.sin(2*np.pi*(j+1)*X[i])\n",
    "    return phi"
   ]
  },
  {
   "cell_type": "code",
   "execution_count": 160,
   "metadata": {
    "collapsed": false
   },
   "outputs": [],
   "source": [
    "def regressionFit(X, Y, phi):\n",
    "    phiT = np.transpose(phi)\n",
    "    a = np.dot(phiT,Y)\n",
    "    phiInv = inv(np.dot(phiT,phi))\n",
    "    w = np.dot(phiInv,a)\n",
    "    return w"
   ]
  },
  {
   "cell_type": "code",
   "execution_count": 161,
   "metadata": {
    "collapsed": true
   },
   "outputs": [],
   "source": [
    "# X is an array of N data points (one dimensional for now), that is, NX1\n",
    "# Y is a Nx1 column vector of data values\n",
    "# order is the order of the highest order polynomial in the basis functions\n",
    "def regressionPlot(X, Y, order):\n",
    "    # constuct the design matrix (Bishop 3.16), the 0th column is just 1s.\n",
    "    phi = designMatrix2(X, order+1)\n",
    "    print phi\n",
    "    # compute the weight vector\n",
    "    w = regressionFit(X, Y, phi)\n",
    "    print 'w', w\n",
    "    print 'error', sse(X, Y, order, w)\n",
    "    # produce a plot of the values of the function \n",
    "    pts = np.linspace(min(X), max(X), 100)\n",
    "    Yp = np.dot(designMatrix(pts, order+1), w)\n",
    "    pl.plot(pts, Yp)"
   ]
  },
  {
   "cell_type": "code",
   "execution_count": 162,
   "metadata": {
    "collapsed": false
   },
   "outputs": [
    {
     "name": "stdout",
     "output_type": "stream",
     "text": [
      "[[  0.00000000e+00   0.00000000e+00   0.00000000e+00   0.00000000e+00\n",
      "    0.00000000e+00]\n",
      " [  6.42787075e-01   9.84807511e-01   8.66026451e-01   3.42022767e-01\n",
      "   -3.42016863e-01]\n",
      " [  9.84807511e-01   3.42022767e-01  -8.66023309e-01  -6.42791888e-01\n",
      "    6.42782262e-01]\n",
      " [  8.66026451e-01  -8.66023309e-01  -6.28318531e-06   8.66029593e-01\n",
      "   -8.66020168e-01]\n",
      " [  3.42022767e-01  -6.42791888e-01   8.66029593e-01  -9.84809693e-01\n",
      "    9.84805328e-01]\n",
      " [ -3.42022767e-01   6.42791888e-01  -8.66029593e-01   9.84809693e-01\n",
      "   -9.84805328e-01]\n",
      " [ -8.66026451e-01   8.66023309e-01   6.28318531e-06  -8.66029593e-01\n",
      "    8.66020168e-01]\n",
      " [ -9.84807511e-01  -3.42022767e-01   8.66023309e-01   6.42791888e-01\n",
      "   -6.42782262e-01]\n",
      " [ -6.42787075e-01  -9.84807511e-01  -8.66026451e-01  -3.42022767e-01\n",
      "    3.42016863e-01]\n",
      " [ -2.44929360e-16  -4.89858720e-16  -7.34788079e-16  -9.79717439e-16\n",
      "   -1.22464680e-15]]\n",
      "w [ 0.86482373  0.07019663 -0.01777816  0.3125      0.125     ]\n",
      "error 11.7811201562\n"
     ]
    },
    {
     "data": {
      "image/png": "[encoded data removed]",
      "text/plain": [
       "<matplotlib.figure.Figure at 0x109f806d0>"
      ]
     },
     "metadata": {},
     "output_type": "display_data"
    },
    {
     "data": {
      "text/plain": [
       "<matplotlib.figure.Figure at 0x109578f90>"
      ]
     },
     "metadata": {},
     "output_type": "display_data"
    }
   ],
   "source": [
    "X = [0.000000, 0.111111, 0.222222, 0.333333, 0.444444, 0.555556, 0.666667, 0.777778, 0.888889, 1.00000]\n",
    "Y = [0.349486, 0.830839, 1.007332, 0.971507, 0.133066, 0.166823, -0.848307, -0.445686, -0.563567, 0.261502]\n",
    "fig = plt.figure()\n",
    "\n",
    "plt.plot(X,Y, marker = \"o\", linestyle = \"None\")\n",
    "plt.plot(np.linspace(0,1,30), np.sin(2*np.pi*np.linspace(0,1,30)))\n",
    "regressionPlot(X,Y,4)\n",
    "plt.show()\n",
    "plt.savefig(\"Figures/Q2/sin.png\", dpi = 100)\n"
   ]
  },
  {
   "cell_type": "code",
   "execution_count": 6,
   "metadata": {
    "collapsed": false
   },
   "outputs": [
    {
     "name": "stdout",
     "output_type": "stream",
     "text": [
      "\n"
     ]
    }
   ],
   "source": [
    "def polyPredict(X, M, w):\n",
    "    N = len(X)\n",
    "    Ypred = np.array([0.]*N)\n",
    "    for i in range(N):\n",
    "        for j in range(M+1):\n",
    "            Ypred[i] += w[j]*X[i]**j\n",
    "    return Ypred"
   ]
  },
  {
   "cell_type": "code",
   "execution_count": 7,
   "metadata": {
    "collapsed": true
   },
   "outputs": [],
   "source": [
    "def sse(X, Y, M, w):\n",
    "    Ypred = polyPredict(X, M, w)\n",
    "    sse = 0\n",
    "    for i in range(len(Ypred)):\n",
    "        sse += (Ypred[i] - Y[i])**2\n",
    "    return sse"
   ]
  },
  {
   "cell_type": "code",
   "execution_count": 50,
   "metadata": {
    "collapsed": false
   },
   "outputs": [],
   "source": [
    "def sseGrad(X, Y, M, w):\n",
    "    ret = np.array([0.]*(M+1))\n",
    "    Ypred = polyPredict(X, M, w)\n",
    "    for j in range(M+1):\n",
    "        ret[j]= 0\n",
    "        for i in range(len(Y)):\n",
    "            ret[j] -= 2*X[i]**j * (Y[i] - Ypred[i])\n",
    "    return(ret)"
   ]
  },
  {
   "cell_type": "code",
   "execution_count": 12,
   "metadata": {
    "collapsed": true
   },
   "outputs": [],
   "source": [
    "def derivative(f, x, var, epsilon):\n",
    "    y = np.copy(x)\n",
    "    y[var] += epsilon\n",
    "    return ((f(y) - f(x))/epsilon)\n",
    "def gradient(f,x,epsilon):\n",
    "    grad = np.array([0.]*len(x))\n",
    "    for i in range(len(x)):\n",
    "        grad[i] = derivative(f, x, i, epsilon)\n",
    "    return grad"
   ]
  },
  {
   "cell_type": "code",
   "execution_count": 41,
   "metadata": {
    "collapsed": false
   },
   "outputs": [
    {
     "name": "stdout",
     "output_type": "stream",
     "text": [
      "[ 0.]\n"
     ]
    },
    {
     "data": {
      "text/plain": [
       "array([ 96.27401])"
      ]
     },
     "execution_count": 41,
     "metadata": {},
     "output_type": "execute_result"
    }
   ],
   "source": [
    "M=0\n",
    "#w = [2.]*(M+1)\n",
    "w = [5.,2.,-4.,0.]\n",
    "X = [0.000000, 0.111111, 0.222222, 0.333333, 0.444444, 0.555556, 0.666667, 0.777778, 0.888889, 1.00000]\n",
    "Y = [0.349486, 0.830839, 1.007332, 0.971507, 0.133066, 0.166823, -0.848307, -0.445686, -0.563567, 0.261502]\n",
    "sseG = sseGrad(X, Y, M, w)\n",
    "sseG"
   ]
  },
  {
   "cell_type": "code",
   "execution_count": 206,
   "metadata": {
    "collapsed": false
   },
   "outputs": [],
   "source": [
    "def f(w):\n",
    "    M=1\n",
    "    X = [0.000000, 0.111111, 0.222222, 0.333333, 0.444444, 0.555556, 0.666667, 0.777778, 0.888889, 1.00000]\n",
    "    Y = [0.349486, 0.830839, 1.007332, 0.971507, 0.133066, 0.166823, -0.848307, -0.445686, -0.563567, 0.261502]\n",
    "    return sse(X, Y, M, w)\n",
    "def gradf(w):\n",
    "    M=1\n",
    "    X = [0.000000, 0.111111, 0.222222, 0.333333, 0.444444, 0.555556, 0.666667, 0.777778, 0.888889, 1.00000]\n",
    "    Y = [0.349486, 0.830839, 1.007332, 0.971507, 0.133066, 0.166823, -0.848307, -0.445686, -0.563567, 0.261502]\n",
    "    return sseGrad(X, Y, M, w)"
   ]
  },
  {
   "cell_type": "code",
   "execution_count": 18,
   "metadata": {
    "collapsed": false
   },
   "outputs": [
    {
     "data": {
      "text/plain": [
       "array([ 96.37401,   0.     ,   0.     ,   0.     ])"
      ]
     },
     "execution_count": 18,
     "metadata": {},
     "output_type": "execute_result"
    }
   ],
   "source": [
    "#w = [2.]*(M+1)\n",
    "w = [5.,2.,-4.,0.]\n",
    "numSseGrad = gradient(f, w, 0.01)\n",
    "numSseGrad"
   ]
  },
  {
   "cell_type": "code",
   "execution_count": 85,
   "metadata": {
    "collapsed": true
   },
   "outputs": [],
   "source": [
    "def gradientDescent(f, gradf, x_ini, step, stop, iterMax):\n",
    "    x1 = np.copy(x_ini)\n",
    "\n",
    "    y1 = f(x1)\n",
    "    y0 = f(x1) + stop + 1\n",
    "    nbIter = 0\n",
    "    hist = [np.append(x1,y1)]\n",
    "    while (abs(y1 - y0) >= stop) & (nbIter <= iterMax):\n",
    "        nbIter += 1\n",
    "        grad = gradf(x1)\n",
    "        x0 = np.copy(x1)\n",
    "        x1 = np.copy(x0) - step*grad\n",
    "        y0 = f(x0)\n",
    "        y1 = f(x1)\n",
    "        hist = np.append(hist, [np.append(x1,y1)], axis = 0)\n",
    "        if nbIter%(iterMax/100) == 0:\n",
    "            print \"completion: %d %% and error: %f\" %((nbIter*100)/iterMax, hist[-1,-1])\n",
    "    return(hist)"
   ]
  },
  {
   "cell_type": "code",
   "execution_count": 192,
   "metadata": {
    "collapsed": true
   },
   "outputs": [
    {
     "name": "stdout",
     "output_type": "stream",
     "text": [
      "completion: 1 % and error: 0.758557\n",
      "completion: 2 % and error: 0.520975\n",
      "completion: 3 % and error: 0.425859\n",
      "completion: 4 % and error: 0.387556\n",
      "completion: 5 % and error: 0.371916\n",
      "completion: 6 % and error: 0.365324\n",
      "completion: 7 % and error: 0.362350\n",
      "completion: 8 % and error: 0.360829\n",
      "completion: 9 % and error: 0.359898\n",
      "completion: 10 % and error: 0.359213\n",
      "completion: 11 % and error: 0.358634\n",
      "completion: 12 % and error: 0.358108\n",
      "completion: 13 % and error: 0.357612\n",
      "completion: 14 % and error: 0.357137\n",
      "completion: 15 % and error: 0.356678\n",
      "completion: 16 % and error: 0.356234\n",
      "completion: 17 % and error: 0.355805\n",
      "completion: 18 % and error: 0.355388\n",
      "completion: 19 % and error: 0.354985\n",
      "completion: 20 % and error: 0.354593\n",
      "completion: 21 % and error: 0.354214\n",
      "completion: 22 % and error: 0.353846\n",
      "completion: 23 % and error: 0.353490\n",
      "completion: 24 % and error: 0.353144\n",
      "completion: 25 % and error: 0.352809\n",
      "completion: 26 % and error: 0.352484\n",
      "completion: 27 % and error: 0.352168\n",
      "completion: 28 % and error: 0.351863\n",
      "completion: 29 % and error: 0.351566\n",
      "completion: 30 % and error: 0.351279\n",
      "completion: 31 % and error: 0.351000\n",
      "completion: 32 % and error: 0.350729\n",
      "completion: 33 % and error: 0.350467\n",
      "completion: 34 % and error: 0.350212\n",
      "completion: 35 % and error: 0.349965\n",
      "completion: 36 % and error: 0.349726\n",
      "completion: 37 % and error: 0.349493\n",
      "completion: 38 % and error: 0.349268\n",
      "completion: 39 % and error: 0.349049\n",
      "completion: 40 % and error: 0.348837\n",
      "completion: 41 % and error: 0.348631\n",
      "completion: 42 % and error: 0.348431\n",
      "completion: 43 % and error: 0.348236\n",
      "completion: 44 % and error: 0.348048\n",
      "completion: 45 % and error: 0.347865\n",
      "completion: 46 % and error: 0.347688\n",
      "completion: 47 % and error: 0.347515\n",
      "completion: 48 % and error: 0.347348\n",
      "completion: 49 % and error: 0.347185\n",
      "completion: 50 % and error: 0.347027\n",
      "completion: 51 % and error: 0.346874\n",
      "completion: 52 % and error: 0.346725\n",
      "completion: 53 % and error: 0.346581\n",
      "completion: 54 % and error: 0.346440\n",
      "completion: 55 % and error: 0.346304\n",
      "completion: 56 % and error: 0.346171\n"
     ]
    },
    {
     "ename": "KeyboardInterrupt",
     "evalue": "",
     "output_type": "error",
     "traceback": [
      "\u001b[0;31m---------------------------------------------------------------------------\u001b[0m",
      "\u001b[0;31mKeyboardInterrupt\u001b[0m                         Traceback (most recent call last)",
      "\u001b[0;32m<ipython-input-192-d80cca2c7ced>\u001b[0m in \u001b[0;36m<module>\u001b[0;34m()\u001b[0m\n\u001b[1;32m      4\u001b[0m \u001b[0;31m#w = [0, 0,  -5322, 48577, -231683, 640162, -1061997, 1042591, -557784, 125223]\u001b[0m\u001b[0;34m\u001b[0m\u001b[0;34m\u001b[0m\u001b[0m\n\u001b[1;32m      5\u001b[0m \u001b[0mw\u001b[0m \u001b[0;34m=\u001b[0m \u001b[0;34m[\u001b[0m\u001b[0;36m1000.\u001b[0m\u001b[0;34m]\u001b[0m \u001b[0;34m*\u001b[0m\u001b[0;34m(\u001b[0m\u001b[0mM\u001b[0m\u001b[0;34m+\u001b[0m\u001b[0;36m1\u001b[0m\u001b[0;34m)\u001b[0m\u001b[0;34m\u001b[0m\u001b[0m\n\u001b[0;32m----> 6\u001b[0;31m \u001b[0mhist\u001b[0m \u001b[0;34m=\u001b[0m \u001b[0mgradientDescent\u001b[0m\u001b[0;34m(\u001b[0m\u001b[0mf\u001b[0m\u001b[0;34m,\u001b[0m \u001b[0mgradf\u001b[0m\u001b[0;34m,\u001b[0m \u001b[0mw\u001b[0m\u001b[0;34m,\u001b[0m \u001b[0;36m0.04\u001b[0m\u001b[0;34m,\u001b[0m \u001b[0;36m10\u001b[0m\u001b[0;34m**\u001b[0m\u001b[0;34m(\u001b[0m\u001b[0;34m-\u001b[0m\u001b[0;36m9\u001b[0m\u001b[0;34m)\u001b[0m\u001b[0;34m,\u001b[0m \u001b[0;36m300000\u001b[0m\u001b[0;34m)\u001b[0m\u001b[0;34m\u001b[0m\u001b[0m\n\u001b[0m\u001b[1;32m      7\u001b[0m \u001b[0;32mprint\u001b[0m \u001b[0mlen\u001b[0m\u001b[0;34m(\u001b[0m\u001b[0mhist\u001b[0m\u001b[0;34m)\u001b[0m\u001b[0;34m\u001b[0m\u001b[0m\n\u001b[1;32m      8\u001b[0m \u001b[0;32mprint\u001b[0m \u001b[0mhist\u001b[0m\u001b[0;34m[\u001b[0m\u001b[0;34m-\u001b[0m\u001b[0;36m1\u001b[0m\u001b[0;34m]\u001b[0m\u001b[0;34m\u001b[0m\u001b[0m\n",
      "\u001b[0;32m<ipython-input-85-9edd95be1570>\u001b[0m in \u001b[0;36mgradientDescent\u001b[0;34m(f, gradf, x_ini, step, stop, iterMax)\u001b[0m\n\u001b[1;32m     13\u001b[0m         \u001b[0my0\u001b[0m \u001b[0;34m=\u001b[0m \u001b[0mf\u001b[0m\u001b[0;34m(\u001b[0m\u001b[0mx0\u001b[0m\u001b[0;34m)\u001b[0m\u001b[0;34m\u001b[0m\u001b[0m\n\u001b[1;32m     14\u001b[0m         \u001b[0my1\u001b[0m \u001b[0;34m=\u001b[0m \u001b[0mf\u001b[0m\u001b[0;34m(\u001b[0m\u001b[0mx1\u001b[0m\u001b[0;34m)\u001b[0m\u001b[0;34m\u001b[0m\u001b[0m\n\u001b[0;32m---> 15\u001b[0;31m         \u001b[0mhist\u001b[0m \u001b[0;34m=\u001b[0m \u001b[0mnp\u001b[0m\u001b[0;34m.\u001b[0m\u001b[0mappend\u001b[0m\u001b[0;34m(\u001b[0m\u001b[0mhist\u001b[0m\u001b[0;34m,\u001b[0m \u001b[0;34m[\u001b[0m\u001b[0mnp\u001b[0m\u001b[0;34m.\u001b[0m\u001b[0mappend\u001b[0m\u001b[0;34m(\u001b[0m\u001b[0mx1\u001b[0m\u001b[0;34m,\u001b[0m\u001b[0my1\u001b[0m\u001b[0;34m)\u001b[0m\u001b[0;34m]\u001b[0m\u001b[0;34m,\u001b[0m \u001b[0maxis\u001b[0m \u001b[0;34m=\u001b[0m \u001b[0;36m0\u001b[0m\u001b[0;34m)\u001b[0m\u001b[0;34m\u001b[0m\u001b[0m\n\u001b[0m\u001b[1;32m     16\u001b[0m         \u001b[0;32mif\u001b[0m \u001b[0mnbIter\u001b[0m\u001b[0;34m%\u001b[0m\u001b[0;34m(\u001b[0m\u001b[0miterMax\u001b[0m\u001b[0;34m/\u001b[0m\u001b[0;36m100\u001b[0m\u001b[0;34m)\u001b[0m \u001b[0;34m==\u001b[0m \u001b[0;36m0\u001b[0m\u001b[0;34m:\u001b[0m\u001b[0;34m\u001b[0m\u001b[0m\n\u001b[1;32m     17\u001b[0m             \u001b[0;32mprint\u001b[0m \u001b[0;34m\"completion: %d %% and error: %f\"\u001b[0m \u001b[0;34m%\u001b[0m\u001b[0;34m(\u001b[0m\u001b[0;34m(\u001b[0m\u001b[0mnbIter\u001b[0m\u001b[0;34m*\u001b[0m\u001b[0;36m100\u001b[0m\u001b[0;34m)\u001b[0m\u001b[0;34m/\u001b[0m\u001b[0miterMax\u001b[0m\u001b[0;34m,\u001b[0m \u001b[0mhist\u001b[0m\u001b[0;34m[\u001b[0m\u001b[0;34m-\u001b[0m\u001b[0;36m1\u001b[0m\u001b[0;34m,\u001b[0m\u001b[0;34m-\u001b[0m\u001b[0;36m1\u001b[0m\u001b[0;34m]\u001b[0m\u001b[0;34m)\u001b[0m\u001b[0;34m\u001b[0m\u001b[0m\n",
      "\u001b[0;32m/Users/mburq/anaconda/lib/python2.7/site-packages/numpy/lib/function_base.pyc\u001b[0m in \u001b[0;36mappend\u001b[0;34m(arr, values, axis)\u001b[0m\n\u001b[1;32m   3882\u001b[0m         \u001b[0mvalues\u001b[0m \u001b[0;34m=\u001b[0m \u001b[0mravel\u001b[0m\u001b[0;34m(\u001b[0m\u001b[0mvalues\u001b[0m\u001b[0;34m)\u001b[0m\u001b[0;34m\u001b[0m\u001b[0m\n\u001b[1;32m   3883\u001b[0m         \u001b[0maxis\u001b[0m \u001b[0;34m=\u001b[0m \u001b[0marr\u001b[0m\u001b[0;34m.\u001b[0m\u001b[0mndim\u001b[0m\u001b[0;34m-\u001b[0m\u001b[0;36m1\u001b[0m\u001b[0;34m\u001b[0m\u001b[0m\n\u001b[0;32m-> 3884\u001b[0;31m     \u001b[0;32mreturn\u001b[0m \u001b[0mconcatenate\u001b[0m\u001b[0;34m(\u001b[0m\u001b[0;34m(\u001b[0m\u001b[0marr\u001b[0m\u001b[0;34m,\u001b[0m \u001b[0mvalues\u001b[0m\u001b[0;34m)\u001b[0m\u001b[0;34m,\u001b[0m \u001b[0maxis\u001b[0m\u001b[0;34m=\u001b[0m\u001b[0maxis\u001b[0m\u001b[0;34m)\u001b[0m\u001b[0;34m\u001b[0m\u001b[0m\n\u001b[0m",
      "\u001b[0;31mKeyboardInterrupt\u001b[0m: "
     ]
    }
   ],
   "source": [
    "M = 9\n",
    "#w = [0., 8., -25., 17]\n",
    "#w = [3.49446556, 232.412798,  -5322.85881, 48577.6357, -231683.243, 640162.263, -1061997.35, 1042591.31, -557784.187, 125223.931]\n",
    "#w = [0, 0,  -5322, 48577, -231683, 640162, -1061997, 1042591, -557784, 125223]\n",
    "w = [1000.] *(M+1)\n",
    "hist = gradientDescent(f, gradf, w, 0.04, 10**(-9), 300000)\n",
    "print len(hist)\n",
    "print hist[-1] "
   ]
  },
  {
   "cell_type": "code",
   "execution_count": 122,
   "metadata": {
    "collapsed": false
   },
   "outputs": [
    {
     "data": {
      "image/png": "[encoded data removed]",
      "text/plain": [
       "<matplotlib.figure.Figure at 0x109f8d150>"
      ]
     },
     "metadata": {},
     "output_type": "display_data"
    }
   ],
   "source": [
    "fig = plt.figure()\n",
    "plt.plot(X,Y, marker = \"o\", linestyle = \"None\")\n",
    "plt.plot(np.linspace(0,1,30), np.sin(2*np.pi*np.linspace(0,1,30)))\n",
    "\n",
    "w = hist[-1, 0:(M+1)]\n",
    "pts = np.linspace(min(X), max(X), 100)\n",
    "Yp = np.dot(designMatrix(pts, M+1), w)\n",
    "pl.plot(pts, Yp)\n",
    "\n",
    "X = [0.000000, 0.111111, 0.222222, 0.333333, 0.444444, 0.555556, 0.666667, 0.777778, 0.888889, 1.00000]\n",
    "Y = [0.349486, 0.830839, 1.007332, 0.971507, 0.133066, 0.166823, -0.848307, -0.445686, -0.563567, 0.261502]\n",
    "\n",
    "#plt.show()\n",
    "plt.savefig(\"Figures/Q2/M9quat.png\", dpi = 100)"
   ]
  },
  {
   "cell_type": "code",
   "execution_count": 207,
   "metadata": {
    "collapsed": false
   },
   "outputs": [
    {
     "name": "stdout",
     "output_type": "stream",
     "text": [
      "Optimization terminated successfully.\n",
      "         Current function value: 2.136541\n",
      "         Iterations: 3\n",
      "         Function evaluations: 5\n",
      "         Gradient evaluations: 5\n"
     ]
    },
    {
     "data": {
      "image/png": "[encoded data removed]",
      "text/plain": [
       "<matplotlib.figure.Figure at 0x109869110>"
      ]
     },
     "metadata": {},
     "output_type": "display_data"
    }
   ],
   "source": [
    "M = 1\n",
    "#w = [0., 8., -25., 17]\n",
    "#w = [3.49446556, 232.412798,  -5322.85881, 48577.6357, -231683.243, 640162.263, -1061997.35, 1042591.31, -557784.187, 125223.931]\n",
    "#w = [0, 0,  -5322, 48577, -231683, 640162, -1061997, 1042591, -557784, 125223]\n",
    "w = [1000.] *(M+1)\n",
    "#hist = gradientDescent(f, gradf, w, 0.04, 10**(-6), 30000)\n",
    "w = opt(f,w, fprime = gradf, gtol = 10**(-9))\n",
    "\n",
    "fig = plt.figure()\n",
    "plt.plot(X,Y, marker = \"o\", linestyle = \"None\")\n",
    "plt.plot(np.linspace(0,1,30), np.sin(2*np.pi*np.linspace(0,1,30)))\n",
    "\n",
    "pts = np.linspace(min(X), max(X), 100)\n",
    "Yp = np.dot(designMatrix(pts, M+1), w)\n",
    "pl.plot(pts, Yp)\n",
    "\n",
    "X = [0.000000, 0.111111, 0.222222, 0.333333, 0.444444, 0.555556, 0.666667, 0.777778, 0.888889, 1.00000]\n",
    "Y = [0.349486, 0.830839, 1.007332, 0.971507, 0.133066, 0.166823, -0.848307, -0.445686, -0.563567, 0.261502]\n",
    "\n",
    "#plt.show()\n",
    "plt.savefig(\"Figures/Q2/M9quat.png\", dpi = 100)"
   ]
  },
  {
   "cell_type": "code",
   "execution_count": null,
   "metadata": {
    "collapsed": true
   },
   "outputs": [],
   "source": []
  }
 ],
 "metadata": {
  "kernelspec": {
   "display_name": "Python 2",
   "language": "python",
   "name": "python2"
  },
  "language_info": {
   "codemirror_mode": {
    "name": "ipython",
    "version": 2
   },
   "file_extension": ".py",
   "mimetype": "text/x-python",
   "name": "python",
   "nbconvert_exporter": "python",
   "pygments_lexer": "ipython2",
   "version": "2.7.8"
  }
 },
 "nbformat": 4,
 "nbformat_minor": 0
}
