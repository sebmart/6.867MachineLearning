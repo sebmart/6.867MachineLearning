{
 "cells": [
  {
   "cell_type": "code",
   "execution_count": 1,
   "metadata": {
    "collapsed": true
   },
   "outputs": [],
   "source": [
    "%matplotlib inline  \n",
    "import pdb\n",
    "import random\n",
    "import pylab as pl\n",
    "from scipy.optimize import fmin_bfgs\n",
    "import numpy as np\n",
    "from numpy.linalg import inv\n",
    "import matplotlib.pyplot as plt"
   ]
  },
  {
   "cell_type": "code",
   "execution_count": 17,
   "metadata": {
    "collapsed": true
   },
   "outputs": [],
   "source": [
    "def designMatrix(X, order):\n",
    "    N = len(X)\n",
    "    phi = np.array([[0.]*order]*N)\n",
    "    for i in range(N):\n",
    "        for j in range(order):\n",
    "            phi[i,j] = X[i]**j\n",
    "    return phi"
   ]
  },
  {
   "cell_type": "code",
   "execution_count": 18,
   "metadata": {
    "collapsed": false
   },
   "outputs": [],
   "source": [
    "def regressionFit(X, Y, phi):\n",
    "    phiT = np.transpose(phi)\n",
    "    a = np.dot(phiT,Y)\n",
    "    phiInv = inv(np.dot(phiT,phi))\n",
    "    w = np.dot(phiInv,a)\n",
    "    return w"
   ]
  },
  {
   "cell_type": "code",
   "execution_count": 43,
   "metadata": {
    "collapsed": true
   },
   "outputs": [],
   "source": [
    "# X is an array of N data points (one dimensional for now), that is, NX1\n",
    "# Y is a Nx1 column vector of data values\n",
    "# order is the order of the highest order polynomial in the basis functions\n",
    "def regressionPlot(X, Y, order):\n",
    "    # constuct the design matrix (Bishop 3.16), the 0th column is just 1s.\n",
    "    phi = designMatrix(X, order+1)\n",
    "    # print phi\n",
    "    # compute the weight vector\n",
    "    w = regressionFit(X, Y, phi)\n",
    "    print 'w', w\n",
    "    # produce a plot of the values of the function \n",
    "    pts = np.linspace(min(X), max(X), 100)\n",
    "    Yp = np.dot(designMatrix(pts, order+1), w)\n",
    "    pl.plot(pts, Yp)"
   ]
  },
  {
   "cell_type": "code",
   "execution_count": 96,
   "metadata": {
    "collapsed": false
   },
   "outputs": [
    {
     "name": "stdout",
     "output_type": "stream",
     "text": [
      "w [  0.31370273   7.98537103 -25.42610224  17.37407653]\n"
     ]
    },
    {
     "data": {
      "image/png": "[encoded data removed]",
      "text/plain": [
       "<matplotlib.figure.Figure at 0x109917a10>"
      ]
     },
     "metadata": {},
     "output_type": "display_data"
    }
   ],
   "source": [
    "X = [0.000000, 0.111111, 0.222222, 0.333333, 0.444444, 0.555556, 0.666667, 0.777778, 0.888889, 1.00000]\n",
    "Y = [0.349486, 0.830839, 1.007332, 0.971507, 0.133066, 0.166823, -0.848307, -0.445686, -0.563567, 0.261502]\n",
    "\n",
    "plt.plot(X,Y, marker = \"o\", linestyle = \"None\")\n",
    "plt.plot(np.linspace(0,1,30), np.sin(2*np.pi*np.linspace(0,1,30)))\n",
    "regressionPlot(X,Y,3)\n",
    "plt.show()\n"
   ]
  },
  {
   "cell_type": "code",
   "execution_count": 55,
   "metadata": {
    "collapsed": false
   },
   "outputs": [],
   "source": [
    "def polyPredict(X, M, w):\n",
    "    N = len(X)\n",
    "    Ypred = np.array([0.]*N)\n",
    "    for i in range(N):\n",
    "        for j in range(M+1):\n",
    "            Ypred[i] += w[j]*X[i]**j\n",
    "    return Ypred"
   ]
  },
  {
   "cell_type": "code",
   "execution_count": 56,
   "metadata": {
    "collapsed": true
   },
   "outputs": [],
   "source": [
    "def sse(X, Y, M, w):\n",
    "    Ypred = polyPredict(X, M, w)\n",
    "    sse = 0\n",
    "    for i in range(len(Ypred)):\n",
    "        sse += (Ypred[i] - Y[i])**2\n",
    "    return sse"
   ]
  },
  {
   "cell_type": "code",
   "execution_count": 66,
   "metadata": {
    "collapsed": false
   },
   "outputs": [],
   "source": [
    "def sseGrad(X, Y, M, w):\n",
    "    ret = np.array([0.]*(M+1))\n",
    "    Ypred = polyPredict(X, M, w)\n",
    "    for j in range(M+1):\n",
    "        ret[j]= 0\n",
    "        for i in range(len(Y)):\n",
    "            ret[j] -= 2*X[i]**j * (Y[i] - Ypred[i])\n",
    "    return(ret)"
   ]
  },
  {
   "cell_type": "code",
   "execution_count": null,
   "metadata": {
    "collapsed": true
   },
   "outputs": [],
   "source": []
  },
  {
   "cell_type": "code",
   "execution_count": 71,
   "metadata": {
    "collapsed": true
   },
   "outputs": [],
   "source": [
    "def derivative(f, x, var, epsilon):\n",
    "    y = np.copy(x)\n",
    "    y[var] += epsilon\n",
    "    return ((f(y) - f(x))/epsilon)\n",
    "def gradient(f,x,epsilon):\n",
    "    grad = np.array([0.]*len(x))\n",
    "    for i in range(len(x)):\n",
    "        grad[i] = derivative(f, x, i, epsilon)\n",
    "    return grad"
   ]
  },
  {
   "cell_type": "code",
   "execution_count": 76,
   "metadata": {
    "collapsed": false
   },
   "outputs": [
    {
     "data": {
      "text/plain": [
       "array([ 81.45920259,  55.25277795,  43.88730298,  37.02178145])"
      ]
     },
     "execution_count": 76,
     "metadata": {},
     "output_type": "execute_result"
    }
   ],
   "source": [
    "M=3\n",
    "w = [2.]*(M+1)\n",
    "X = [0.000000, 0.111111, 0.222222, 0.333333, 0.444444, 0.555556, 0.666667, 0.777778, 0.888889, 1.00000]\n",
    "Y = [0.349486, 0.830839, 1.007332, 0.971507, 0.133066, 0.166823, -0.848307, -0.445686, -0.563567, 0.261502]\n",
    "sseG = sseGrad(X, Y, M, w)\n",
    "sseG"
   ]
  },
  {
   "cell_type": "code",
   "execution_count": 78,
   "metadata": {
    "collapsed": true
   },
   "outputs": [],
   "source": [
    "def f(w):\n",
    "    M=3\n",
    "    X = [0.000000, 0.111111, 0.222222, 0.333333, 0.444444, 0.555556, 0.666667, 0.777778, 0.888889, 1.00000]\n",
    "    Y = [0.349486, 0.830839, 1.007332, 0.971507, 0.133066, 0.166823, -0.848307, -0.445686, -0.563567, 0.261502]\n",
    "    return sse(X, Y, M, w)\n",
    "def gradf(w):\n",
    "    M=3\n",
    "    X = [0.000000, 0.111111, 0.222222, 0.333333, 0.444444, 0.555556, 0.666667, 0.777778, 0.888889, 1.00000]\n",
    "    Y = [0.349486, 0.830839, 1.007332, 0.971507, 0.133066, 0.166823, -0.848307, -0.445686, -0.563567, 0.261502]\n",
    "    return sseGrad(X, Y, M, w)"
   ]
  },
  {
   "cell_type": "code",
   "execution_count": 77,
   "metadata": {
    "collapsed": false
   },
   "outputs": [
    {
     "data": {
      "text/plain": [
       "array([ 81.55920259,  55.28796314,  43.9106729 ,  37.04019187])"
      ]
     },
     "execution_count": 77,
     "metadata": {},
     "output_type": "execute_result"
    }
   ],
   "source": [
    "w = [2.]*(M+1)\n",
    "numSseGrad = gradient(f, w, 0.01)\n",
    "numSseGrad"
   ]
  },
  {
   "cell_type": "code",
   "execution_count": 86,
   "metadata": {
    "collapsed": true
   },
   "outputs": [],
   "source": [
    "def gradientDescent(f, gradf, x_ini, step, stop, iterMax):\n",
    "    x1 = np.copy(x_ini)\n",
    "    y1 = f(x1)\n",
    "    y0 = f(x1) + stop + 1\n",
    "    nbIter = 0\n",
    "    hist = [np.append(x1,y1)]\n",
    "    while (abs(y1 - y0) >= stop) & (nbIter <= iterMax):\n",
    "        nbIter += 1\n",
    "        grad = gradf(x1)\n",
    "        x0 = np.copy(x1)\n",
    "        x1 = np.copy(x0) - step*grad\n",
    "        y0 = f(x0)\n",
    "        y1 = f(x1)\n",
    "        hist = np.append(hist, [np.append(x1,y1)], axis = 0)\n",
    "    return(hist)"
   ]
  },
  {
   "cell_type": "code",
   "execution_count": 135,
   "metadata": {
    "collapsed": false
   },
   "outputs": [
    {
     "name": "stdout",
     "output_type": "stream",
     "text": [
      "22882\n",
      "[1.0, 1.0, 1.0, 1.0, 57.9087]\n",
      "[0.9278, -1.1212, -2.4861, 2.4981, 1.6676]\n",
      "[0.8732, -0.2994, -4.5683, 3.8529, 1.4391]\n",
      "[0.8224, 0.4528, -6.4621, 5.0806, 1.2503]\n",
      "[0.7762, 1.1367, -8.1839, 6.1967, 1.0941]\n",
      "[0.7342, 1.7585, -9.7494, 7.2116, 0.9651]\n",
      "[0.696, 2.3239, -11.1728, 8.1343, 0.8584]\n",
      "[0.6613, 2.8379, -12.4669, 8.9732, 0.7702]\n",
      "[0.6298, 3.3053, -13.6435, 9.736, 0.6973]\n",
      "[0.6011, 3.7302, -14.7133, 10.4295, 0.637]\n",
      "[0.575, 4.1166, -15.686, 11.06, 0.5872]\n",
      "[0.5513, 4.4678, -16.5703, 11.6333, 0.546]\n",
      "[0.5297, 4.7872, -17.3744, 12.1545, 0.512]\n",
      "[0.5101, 5.0776, -18.1054, 12.6284, 0.4839]\n",
      "[0.4922, 5.3416, -18.7701, 13.0593, 0.4606]\n",
      "[0.476, 5.5816, -19.3744, 13.4511, 0.4414]\n",
      "[0.4613, 5.7999, -19.9239, 13.8072, 0.4255]\n",
      "[0.4479, 5.9983, -20.4235, 14.1311, 0.4123]\n",
      "[0.4357, 6.1787, -20.8777, 14.4255, 0.4015]\n",
      "[0.4246, 6.3428, -21.2906, 14.6933, 0.3925]\n",
      "[0.4146, 6.4919, -21.6661, 14.9367, 0.3851]\n",
      "[0.4054, 6.6275, -22.0075, 15.158, 0.3789]\n",
      "[0.3971, 6.7508, -22.3179, 15.3592, 0.3738]\n",
      "[0.3895, 6.8629, -22.6001, 15.5421, 0.3696]\n",
      "[0.3826, 6.9648, -22.8567, 15.7084, 0.3662]\n",
      "[0.3764, 7.0575, -23.09, 15.8597, 0.3633]\n",
      "[0.3707, 7.1417, -23.3021, 15.9972, 0.3609]\n",
      "[0.3655, 7.2183, -23.4949, 16.1222, 0.359]\n",
      "[0.3608, 7.288, -23.6703, 16.2359, 0.3574]\n",
      "[0.3565, 7.3513, -23.8297, 16.3392, 0.356]\n",
      "[0.3526, 7.4088, -23.9746, 16.4332, 0.3549]\n",
      "[0.3491, 7.4612, -24.1064, 16.5186, 0.354]\n",
      "[0.3459, 7.5088, -24.2262, 16.5963, 0.3533]\n",
      "[0.343, 7.5521, -24.3352, 16.6669, 0.3526]\n",
      "[0.3403, 7.5914, -24.4342, 16.7311, 0.3521]\n",
      "[0.3379, 7.6272, -24.5243, 16.7895, 0.3517]\n",
      "[0.3357, 7.6597, -24.6062, 16.8426, 0.3513]\n",
      "[0.3337, 7.6893, -24.6806, 16.8908, 0.351]\n",
      "[0.3319, 7.7161, -24.7483, 16.9347, 0.3508]\n",
      "[0.3302, 7.7406, -24.8098, 16.9746, 0.3506]\n",
      "[0.3287, 7.7628, -24.8658, 17.0109, 0.3504]\n",
      "[0.3274, 7.783, -24.9167, 17.0438, 0.3503]\n",
      "[0.3261, 7.8014, -24.9629, 17.0738, 0.3502]\n",
      "[0.325, 7.8181, -25.005, 17.1011, 0.3501]\n",
      "[0.324, 7.8333, -25.0432, 17.1259, 0.35]\n",
      "[0.323, 7.8471, -25.078, 17.1484, 0.35]\n"
     ]
    },
    {
     "data": {
      "text/plain": [
       "array([ 0.00868495, -0.12860235,  0.32376999, -0.20988528])"
      ]
     },
     "execution_count": 135,
     "metadata": {},
     "output_type": "execute_result"
    }
   ],
   "source": [
    "M = 3\n",
    "#w = [0., 8., -25., 17]\n",
    "w = [1., 1., 1., 1]\n",
    "hist = gradientDescent(f, gradf, w, 0.06, 10**(-7), 30000)\n",
    "print len(hist)\n",
    "for x in hist[0:-1:500]:\n",
    "    print [round(i,4) for i in x]\n",
    "hist[-1, 0:4] - [ 0.31370273,  7.98537103, -25.42610224, 17.37407653]"
   ]
  },
  {
   "cell_type": "code",
   "execution_count": null,
   "metadata": {
    "collapsed": true
   },
   "outputs": [],
   "source": []
  },
  {
   "cell_type": "code",
   "execution_count": null,
   "metadata": {
    "collapsed": true
   },
   "outputs": [],
   "source": [
    "def bishopCurveData():\n",
    "    # y = sin(2 pi x) + N(0,0.3),\n",
    "    return getData('curvefitting.txt')\n",
    "\n",
    "def regressTrainData():\n",
    "    return getData('regress_train.txt')\n",
    "\n",
    "def regressValidateData():\n",
    "    return getData('regress_validate.txt')"
   ]
  }
 ],
 "metadata": {
  "kernelspec": {
   "display_name": "Python 2",
   "language": "python",
   "name": "python2"
  },
  "language_info": {
   "codemirror_mode": {
    "name": "ipython",
    "version": 2
   },
   "file_extension": ".py",
   "mimetype": "text/x-python",
   "name": "python",
   "nbconvert_exporter": "python",
   "pygments_lexer": "ipython2",
   "version": "2.7.8"
  }
 },
 "nbformat": 4,
 "nbformat_minor": 0
}
