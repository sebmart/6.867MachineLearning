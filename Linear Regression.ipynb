{
 "cells": [
  {
   "cell_type": "code",
   "execution_count": 1,
   "metadata": {
    "collapsed": true
   },
   "outputs": [],
   "source": [
    "%matplotlib inline  \n",
    "import pdb\n",
    "import random\n",
    "import pylab as pl\n",
    "from scipy.optimize import fmin_bfgs\n",
    "import numpy as np\n",
    "from numpy.linalg import inv\n",
    "import matplotlib.pyplot as plt"
   ]
  },
  {
   "cell_type": "code",
   "execution_count": 17,
   "metadata": {
    "collapsed": true
   },
   "outputs": [],
   "source": [
    "def designMatrix(X, order):\n",
    "    N = len(X)\n",
    "    phi = np.array([[0.]*order]*N)\n",
    "    for i in range(N):\n",
    "        for j in range(order):\n",
    "            phi[i,j] = X[i]**j\n",
    "    return phi"
   ]
  },
  {
   "cell_type": "code",
   "execution_count": 18,
   "metadata": {
    "collapsed": false
   },
   "outputs": [],
   "source": [
    "def regressionFit(X, Y, phi):\n",
    "    phiT = np.transpose(phi)\n",
    "    a = np.dot(phiT,Y)\n",
    "    phiInv = inv(np.dot(phiT,phi))\n",
    "    w = np.dot(phiInv,a)\n",
    "    return w"
   ]
  },
  {
   "cell_type": "code",
   "execution_count": 145,
   "metadata": {
    "collapsed": true
   },
   "outputs": [],
   "source": [
    "# X is an array of N data points (one dimensional for now), that is, NX1\n",
    "# Y is a Nx1 column vector of data values\n",
    "# order is the order of the highest order polynomial in the basis functions\n",
    "def regressionPlot(X, Y, order):\n",
    "    # constuct the design matrix (Bishop 3.16), the 0th column is just 1s.\n",
    "    phi = designMatrix(X, order+1)\n",
    "    # print phi\n",
    "    # compute the weight vector\n",
    "    w = regressionFit(X, Y, phi)\n",
    "    print 'w', w\n",
    "    print 'error', sse(X, Y, order, w)\n",
    "    # produce a plot of the values of the function \n",
    "    pts = np.linspace(min(X), max(X), 100)\n",
    "    Yp = np.dot(designMatrix(pts, order+1), w)\n",
    "    pl.plot(pts, Yp)"
   ]
  },
  {
   "cell_type": "code",
   "execution_count": 146,
   "metadata": {
    "collapsed": false
   },
   "outputs": [
    {
     "name": "stdout",
     "output_type": "stream",
     "text": [
      "w [  0.33961683   6.07576879 -10.54549191 -22.73941107  44.32688711\n",
      " -17.21940111]\n",
      "error 0.34239152748\n"
     ]
    },
    {
     "data": {
      "image/png": "[encoded data removed]",
      "text/plain": [
       "<matplotlib.figure.Figure at 0x109f03d10>"
      ]
     },
     "metadata": {},
     "output_type": "display_data"
    }
   ],
   "source": [
    "X = [0.000000, 0.111111, 0.222222, 0.333333, 0.444444, 0.555556, 0.666667, 0.777778, 0.888889, 1.00000]\n",
    "Y = [0.349486, 0.830839, 1.007332, 0.971507, 0.133066, 0.166823, -0.848307, -0.445686, -0.563567, 0.261502]\n",
    "\n",
    "plt.plot(X,Y, marker = \"o\", linestyle = \"None\")\n",
    "plt.plot(np.linspace(0,1,30), np.sin(2*np.pi*np.linspace(0,1,30)))\n",
    "regressionPlot(X,Y,5)\n",
    "plt.show()\n"
   ]
  },
  {
   "cell_type": "code",
   "execution_count": 55,
   "metadata": {
    "collapsed": false
   },
   "outputs": [],
   "source": [
    "def polyPredict(X, M, w):\n",
    "    N = len(X)\n",
    "    Ypred = np.array([0.]*N)\n",
    "    for i in range(N):\n",
    "        for j in range(M+1):\n",
    "            Ypred[i] += w[j]*X[i]**j\n",
    "    return Ypred"
   ]
  },
  {
   "cell_type": "code",
   "execution_count": 56,
   "metadata": {
    "collapsed": true
   },
   "outputs": [],
   "source": [
    "def sse(X, Y, M, w):\n",
    "    Ypred = polyPredict(X, M, w)\n",
    "    sse = 0\n",
    "    for i in range(len(Ypred)):\n",
    "        sse += (Ypred[i] - Y[i])**2\n",
    "    return sse"
   ]
  },
  {
   "cell_type": "code",
   "execution_count": 66,
   "metadata": {
    "collapsed": false
   },
   "outputs": [],
   "source": [
    "def sseGrad(X, Y, M, w):\n",
    "    ret = np.array([0.]*(M+1))\n",
    "    Ypred = polyPredict(X, M, w)\n",
    "    for j in range(M+1):\n",
    "        ret[j]= 0\n",
    "        for i in range(len(Y)):\n",
    "            ret[j] -= 2*X[i]**j * (Y[i] - Ypred[i])\n",
    "    return(ret)"
   ]
  },
  {
   "cell_type": "code",
   "execution_count": null,
   "metadata": {
    "collapsed": true
   },
   "outputs": [],
   "source": []
  },
  {
   "cell_type": "code",
   "execution_count": 71,
   "metadata": {
    "collapsed": true
   },
   "outputs": [],
   "source": [
    "def derivative(f, x, var, epsilon):\n",
    "    y = np.copy(x)\n",
    "    y[var] += epsilon\n",
    "    return ((f(y) - f(x))/epsilon)\n",
    "def gradient(f,x,epsilon):\n",
    "    grad = np.array([0.]*len(x))\n",
    "    for i in range(len(x)):\n",
    "        grad[i] = derivative(f, x, i, epsilon)\n",
    "    return grad"
   ]
  },
  {
   "cell_type": "code",
   "execution_count": 76,
   "metadata": {
    "collapsed": false
   },
   "outputs": [
    {
     "data": {
      "text/plain": [
       "array([ 81.45920259,  55.25277795,  43.88730298,  37.02178145])"
      ]
     },
     "execution_count": 76,
     "metadata": {},
     "output_type": "execute_result"
    }
   ],
   "source": [
    "M=3\n",
    "w = [2.]*(M+1)\n",
    "X = [0.000000, 0.111111, 0.222222, 0.333333, 0.444444, 0.555556, 0.666667, 0.777778, 0.888889, 1.00000]\n",
    "Y = [0.349486, 0.830839, 1.007332, 0.971507, 0.133066, 0.166823, -0.848307, -0.445686, -0.563567, 0.261502]\n",
    "sseG = sseGrad(X, Y, M, w)\n",
    "sseG"
   ]
  },
  {
   "cell_type": "code",
   "execution_count": 140,
   "metadata": {
    "collapsed": true
   },
   "outputs": [],
   "source": [
    "def f(w):\n",
    "    M=5\n",
    "    X = [0.000000, 0.111111, 0.222222, 0.333333, 0.444444, 0.555556, 0.666667, 0.777778, 0.888889, 1.00000]\n",
    "    Y = [0.349486, 0.830839, 1.007332, 0.971507, 0.133066, 0.166823, -0.848307, -0.445686, -0.563567, 0.261502]\n",
    "    return sse(X, Y, M, w)\n",
    "def gradf(w):\n",
    "    M=5\n",
    "    X = [0.000000, 0.111111, 0.222222, 0.333333, 0.444444, 0.555556, 0.666667, 0.777778, 0.888889, 1.00000]\n",
    "    Y = [0.349486, 0.830839, 1.007332, 0.971507, 0.133066, 0.166823, -0.848307, -0.445686, -0.563567, 0.261502]\n",
    "    return sseGrad(X, Y, M, w)"
   ]
  },
  {
   "cell_type": "code",
   "execution_count": 77,
   "metadata": {
    "collapsed": false
   },
   "outputs": [
    {
     "data": {
      "text/plain": [
       "array([ 81.55920259,  55.28796314,  43.9106729 ,  37.04019187])"
      ]
     },
     "execution_count": 77,
     "metadata": {},
     "output_type": "execute_result"
    }
   ],
   "source": [
    "w = [2.]*(M+1)\n",
    "numSseGrad = gradient(f, w, 0.01)\n",
    "numSseGrad"
   ]
  },
  {
   "cell_type": "code",
   "execution_count": 141,
   "metadata": {
    "collapsed": true
   },
   "outputs": [],
   "source": [
    "def gradientDescent(f, gradf, x_ini, step, stop, iterMax):\n",
    "    x1 = np.copy(x_ini)\n",
    "    y1 = f(x1)\n",
    "    y0 = f(x1) + stop + 1\n",
    "    nbIter = 0\n",
    "    hist = [np.append(x1,y1)]\n",
    "    while (abs(y1 - y0) >= stop) & (nbIter <= iterMax):\n",
    "        nbIter += 1\n",
    "        grad = gradf(x1)\n",
    "        x0 = np.copy(x1)\n",
    "        x1 = np.copy(x0) - step*grad\n",
    "        y0 = f(x0)\n",
    "        y1 = f(x1)\n",
    "        hist = np.append(hist, [np.append(x1,y1)], axis = 0)\n",
    "    return(hist)"
   ]
  },
  {
   "cell_type": "code",
   "execution_count": 147,
   "metadata": {
    "collapsed": false
   },
   "outputs": [
    {
     "name": "stdout",
     "output_type": "stream",
     "text": [
      "30002\n",
      "[1.0, 1.0, 1.0, 1.0, 1.0, 1.0, 95.3026]\n",
      "[0.8539, -0.0826, -2.8045, -1.3194, 0.782, 2.6613, 0.9804]\n",
      "[0.7319, 1.0959, -4.2134, -2.1979, 0.9549, 3.7949, 0.7035]\n",
      "[0.6481, 1.9123, -5.2137, -2.7716, 1.1001, 4.5426, 0.5728]\n",
      "[0.5903, 2.4806, -5.9341, -3.137, 1.2263, 5.0268, 0.5107]\n",
      "[0.5504, 2.8791, -6.4627, -3.3601, 1.3392, 5.3307, 0.4806]\n",
      "[0.5227, 3.1613, -6.8598, -3.486, 1.4428, 5.5116, 0.4656]\n",
      "[0.5034, 3.3639, -7.1666, -3.5457, 1.5399, 5.6086, 0.4576]\n",
      "[0.4898, 3.512, -7.4114, -3.5603, 1.6322, 5.6483, 0.453]\n",
      "[0.4802, 3.6226, -7.6134, -3.5443, 1.7211, 5.649, 0.4499]\n",
      "[0.4732, 3.7076, -7.7858, -3.5076, 1.8074, 5.6233, 0.4476]\n",
      "[0.4681, 3.7749, -7.9377, -3.4568, 1.8918, 5.5798, 0.4456]\n",
      "[0.4643, 3.8301, -8.0753, -3.3968, 1.9747, 5.5242, 0.4438]\n",
      "[0.4613, 3.8769, -8.2028, -3.3305, 2.0563, 5.4606, 0.4422]\n",
      "[0.4589, 3.9179, -8.3232, -3.2603, 2.1368, 5.3918, 0.4405]\n",
      "[0.4569, 3.9548, -8.4384, -3.1875, 2.2164, 5.3196, 0.439]\n",
      "[0.4552, 3.9889, -8.5497, -3.1131, 2.2952, 5.2452, 0.4374]\n",
      "[0.4537, 4.0209, -8.6582, -3.038, 2.3732, 5.1696, 0.4359]\n",
      "[0.4524, 4.0515, -8.7644, -2.9625, 2.4505, 5.0933, 0.4344]\n",
      "[0.4511, 4.081, -8.8688, -2.8869, 2.5271, 5.0169, 0.433]\n",
      "[0.4499, 4.1097, -8.9717, -2.8116, 2.603, 4.9404, 0.4315]\n",
      "[0.4488, 4.1378, -9.0734, -2.7365, 2.6784, 4.8642, 0.4301]\n",
      "[0.4477, 4.1654, -9.1738, -2.6619, 2.753, 4.7883, 0.4287]\n",
      "[0.4466, 4.1926, -9.2733, -2.5877, 2.8271, 4.7128, 0.4274]\n",
      "[0.4455, 4.2195, -9.3717, -2.5141, 2.9006, 4.6379, 0.426]\n",
      "[0.4445, 4.246, -9.4693, -2.441, 2.9734, 4.5634, 0.4247]\n",
      "[0.4435, 4.2723, -9.566, -2.3686, 3.0457, 4.4895, 0.4234]\n",
      "[0.4425, 4.2983, -9.6618, -2.2967, 3.1174, 4.4162, 0.4221]\n",
      "[0.4415, 4.324, -9.7568, -2.2254, 3.1885, 4.3434, 0.4209]\n",
      "[0.4405, 4.3496, -9.8509, -2.1546, 3.259, 4.2713, 0.4196]\n",
      "[0.4395, 4.3749, -9.9443, -2.0845, 3.329, 4.1997, 0.4184]\n",
      "[0.4385, 4.4, -10.0369, -2.015, 3.3984, 4.1287, 0.4172]\n",
      "[0.4376, 4.4248, -10.1287, -1.9461, 3.4673, 4.0582, 0.416]\n",
      "[0.4366, 4.4495, -10.2197, -1.8777, 3.5356, 3.9884, 0.4149]\n",
      "[0.4357, 4.4739, -10.3099, -1.8099, 3.6033, 3.9191, 0.4138]\n",
      "[0.4347, 4.4982, -10.3994, -1.7427, 3.6705, 3.8503, 0.4126]\n",
      "[0.4338, 4.5222, -10.4882, -1.6761, 3.7372, 3.7822, 0.4115]\n",
      "[0.4329, 4.546, -10.5762, -1.6101, 3.8033, 3.7145, 0.4105]\n",
      "[0.432, 4.5697, -10.6634, -1.5446, 3.8689, 3.6475, 0.4094]\n",
      "[0.4311, 4.5931, -10.75, -1.4797, 3.934, 3.581, 0.4083]\n",
      "[0.4302, 4.6164, -10.8358, -1.4153, 3.9985, 3.515, 0.4073]\n",
      "[0.4293, 4.6394, -10.9209, -1.3515, 4.0625, 3.4496, 0.4063]\n",
      "[0.4284, 4.6623, -11.0052, -1.2882, 4.1261, 3.3847, 0.4053]\n",
      "[0.4275, 4.6849, -11.0889, -1.2255, 4.1891, 3.3204, 0.4043]\n",
      "[0.4266, 4.7074, -11.1719, -1.1633, 4.2516, 3.2565, 0.4034]\n",
      "[0.4258, 4.7297, -11.2541, -1.1016, 4.3136, 3.1932, 0.4024]\n",
      "[0.4249, 4.7518, -11.3357, -1.0405, 4.3751, 3.1304, 0.4015]\n",
      "[0.4241, 4.7737, -11.4166, -0.9799, 4.4361, 3.0682, 0.4006]\n",
      "[0.4232, 4.7955, -11.4968, -0.9198, 4.4966, 3.0064, 0.3997]\n",
      "[0.4224, 4.817, -11.5764, -0.8603, 4.5567, 2.9451, 0.3988]\n",
      "[0.4216, 4.8384, -11.6553, -0.8012, 4.6162, 2.8844, 0.3979]\n",
      "[0.4208, 4.8596, -11.7335, -0.7427, 4.6753, 2.8241, 0.3971]\n",
      "[0.4199, 4.8806, -11.811, -0.6846, 4.7339, 2.7644, 0.3962]\n",
      "[0.4191, 4.9015, -11.8879, -0.6271, 4.7921, 2.7051, 0.3954]\n",
      "[0.4183, 4.9221, -11.9642, -0.57, 4.8498, 2.6463, 0.3946]\n",
      "[0.4176, 4.9426, -12.0398, -0.5135, 4.907, 2.588, 0.3938]\n",
      "[0.4168, 4.9629, -12.1148, -0.4574, 4.9637, 2.5302, 0.393]\n",
      "[0.416, 4.9831, -12.1892, -0.4018, 5.0201, 2.4728, 0.3922]\n",
      "[0.4152, 5.0031, -12.2629, -0.3467, 5.0759, 2.4159, 0.3915]\n",
      "[0.4144, 5.0229, -12.3361, -0.2921, 5.1313, 2.3595, 0.3907]\n",
      "[0.4137, 5.0426, -12.4086, -0.2379, 5.1863, 2.3035, 0.39]\n"
     ]
    },
    {
     "ename": "ValueError",
     "evalue": "operands could not be broadcast together with shapes (6,) (4,) ",
     "output_type": "error",
     "traceback": [
      "\u001b[0;31m---------------------------------------------------------------------------\u001b[0m",
      "\u001b[0;31mValueError\u001b[0m                                Traceback (most recent call last)",
      "\u001b[0;32m<ipython-input-147-a3161f2884d0>\u001b[0m in \u001b[0;36m<module>\u001b[0;34m()\u001b[0m\n\u001b[1;32m      6\u001b[0m \u001b[0;32mfor\u001b[0m \u001b[0mx\u001b[0m \u001b[0;32min\u001b[0m \u001b[0mhist\u001b[0m\u001b[0;34m[\u001b[0m\u001b[0;36m0\u001b[0m\u001b[0;34m:\u001b[0m\u001b[0;34m-\u001b[0m\u001b[0;36m1\u001b[0m\u001b[0;34m:\u001b[0m\u001b[0;36m500\u001b[0m\u001b[0;34m]\u001b[0m\u001b[0;34m:\u001b[0m\u001b[0;34m\u001b[0m\u001b[0m\n\u001b[1;32m      7\u001b[0m     \u001b[0;32mprint\u001b[0m \u001b[0;34m[\u001b[0m\u001b[0mround\u001b[0m\u001b[0;34m(\u001b[0m\u001b[0mi\u001b[0m\u001b[0;34m,\u001b[0m\u001b[0;36m4\u001b[0m\u001b[0;34m)\u001b[0m \u001b[0;32mfor\u001b[0m \u001b[0mi\u001b[0m \u001b[0;32min\u001b[0m \u001b[0mx\u001b[0m\u001b[0;34m]\u001b[0m\u001b[0;34m\u001b[0m\u001b[0m\n\u001b[0;32m----> 8\u001b[0;31m \u001b[0mhist\u001b[0m\u001b[0;34m[\u001b[0m\u001b[0;34m-\u001b[0m\u001b[0;36m1\u001b[0m\u001b[0;34m,\u001b[0m \u001b[0;36m0\u001b[0m\u001b[0;34m:\u001b[0m\u001b[0mM\u001b[0m\u001b[0;34m+\u001b[0m\u001b[0;36m1\u001b[0m\u001b[0;34m]\u001b[0m \u001b[0;34m-\u001b[0m \u001b[0;34m[\u001b[0m \u001b[0;36m0.31370273\u001b[0m\u001b[0;34m,\u001b[0m  \u001b[0;36m7.98537103\u001b[0m\u001b[0;34m,\u001b[0m \u001b[0;34m-\u001b[0m\u001b[0;36m25.42610224\u001b[0m\u001b[0;34m,\u001b[0m \u001b[0;36m17.37407653\u001b[0m\u001b[0;34m]\u001b[0m\u001b[0;34m\u001b[0m\u001b[0m\n\u001b[0m",
      "\u001b[0;31mValueError\u001b[0m: operands could not be broadcast together with shapes (6,) (4,) "
     ]
    }
   ],
   "source": [
    "M = 5\n",
    "#w = [0., 8., -25., 17]\n",
    "w = [1., 1., 1., 1., 1., 1.]\n",
    "hist = gradientDescent(f, gradf, w, 0.04, 10**(-7), 30000)\n",
    "print len(hist)\n",
    "for x in hist[0:-1:500]:\n",
    "    print [round(i,4) for i in x]\n",
    "hist[-1, 0:M+1] - [ 0.31370273,  7.98537103, -25.42610224, 17.37407653]"
   ]
  },
  {
   "cell_type": "code",
   "execution_count": null,
   "metadata": {
    "collapsed": true
   },
   "outputs": [],
   "source": []
  },
  {
   "cell_type": "code",
   "execution_count": null,
   "metadata": {
    "collapsed": true
   },
   "outputs": [],
   "source": [
    "def bishopCurveData():\n",
    "    # y = sin(2 pi x) + N(0,0.3),\n",
    "    return getData('curvefitting.txt')\n",
    "\n",
    "def regressTrainData():\n",
    "    return getData('regress_train.txt')\n",
    "\n",
    "def regressValidateData():\n",
    "    return getData('regress_validate.txt')"
   ]
  }
 ],
 "metadata": {
  "kernelspec": {
   "display_name": "Python 2",
   "language": "python",
   "name": "python2"
  },
  "language_info": {
   "codemirror_mode": {
    "name": "ipython",
    "version": 2
   },
   "file_extension": ".py",
   "mimetype": "text/x-python",
   "name": "python",
   "nbconvert_exporter": "python",
   "pygments_lexer": "ipython2",
   "version": "2.7.8"
  }
 },
 "nbformat": 4,
 "nbformat_minor": 0
}
